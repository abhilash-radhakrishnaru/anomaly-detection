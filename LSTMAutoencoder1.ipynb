{
 "cells": [
  {
   "cell_type": "markdown",
   "id": "b967ec19",
   "metadata": {},
   "source": [
    "# Import necessary modules"
   ]
  },
  {
   "cell_type": "code",
   "execution_count": 1,
   "id": "314a8cee",
   "metadata": {},
   "outputs": [
    {
     "name": "stderr",
     "output_type": "stream",
     "text": [
      "2025-01-03 17:49:48.199727: I tensorflow/core/platform/cpu_feature_guard.cc:182] This TensorFlow binary is optimized to use available CPU instructions in performance-critical operations.\n",
      "To enable the following instructions: AVX2 AVX512F AVX512_VNNI FMA, in other operations, rebuild TensorFlow with the appropriate compiler flags.\n"
     ]
    }
   ],
   "source": [
    "# Import necessary libraries\n",
    "import pandas as pd\n",
    "import numpy as np\n",
    "import os\n",
    "import io\n",
    "from sklearn.preprocessing import LabelEncoder, OneHotEncoder, StandardScaler\n",
    "from keras.utils import to_categorical\n",
    "import matplotlib.pyplot as plt"
   ]
  },
  {
   "cell_type": "code",
   "execution_count": 2,
   "id": "368509ca",
   "metadata": {},
   "outputs": [],
   "source": [
    "from tensorflow.keras.models import Sequential\n",
    "from tensorflow.keras.layers import LSTM, Dense, Dropout\n",
    "from tensorflow.keras.callbacks import EarlyStopping\n",
    "from tensorflow.keras.layers import Conv1D, MaxPooling1D, Flatten\n",
    "from keras.optimizers import SGD"
   ]
  },
  {
   "cell_type": "code",
   "execution_count": 3,
   "id": "a616ec83",
   "metadata": {
    "scrolled": true
   },
   "outputs": [
    {
     "name": "stdout",
     "output_type": "stream",
     "text": [
      "Read file metasploitable-2.csv\n",
      "Read file Normal_data.csv\n",
      "Read file OVS.csv\n",
      "Finisehd loading files\n"
     ]
    }
   ],
   "source": [
    "#Loading dataset\n",
    "dataDir = './data'\n",
    "csvfiles = os.listdir(dataDir)\n",
    "df = pd.DataFrame()\n",
    "\n",
    "dFrames = []\n",
    "\n",
    "#iterate through all the files, read it and combine the data\n",
    "for fname in csvfiles:\n",
    "    if(fname.split(\".\")[1] == 'csv'):\n",
    "        df = pd.read_csv(os.path.join(dataDir, fname), low_memory=False, index_col=None, header=0)\n",
    "        dFrames.append(df)\n",
    "        print(\"Read file {}\".format(fname))\n",
    "\n",
    "df = pd.concat(dFrames, axis=0, ignore_index=True)\n",
    "\n",
    "print(\"Finisehd loading files\")"
   ]
  },
  {
   "cell_type": "code",
   "execution_count": 4,
   "id": "81bfdea7",
   "metadata": {},
   "outputs": [
    {
     "name": "stdout",
     "output_type": "stream",
     "text": [
      "                                    Flow ID         Src IP  Src Port  \\\n",
      "0  192.168.3.130-200.175.2.130-38694-4444-6  192.168.3.130     38694   \n",
      "1  192.168.3.130-200.175.2.130-38693-4444-6  192.168.3.130     38693   \n",
      "2  192.168.3.130-200.175.2.130-3632-33747-6  200.175.2.130     33747   \n",
      "3  192.168.3.130-200.175.2.130-8180-38745-6  200.175.2.130     38745   \n",
      "4  192.168.3.130-200.175.2.130-8180-37217-6  200.175.2.130     37217   \n",
      "\n",
      "          Dst IP  Dst Port  Protocol       Timestamp  Flow Duration  \\\n",
      "0  200.175.2.130      4444         6  10/1/2020 5:02         269709   \n",
      "1  200.175.2.130      4444         6  10/1/2020 5:02         268599   \n",
      "2  192.168.3.130      3632         6  10/1/2020 5:02          22194   \n",
      "3  192.168.3.130      8180         6  10/1/2020 1:39           9556   \n",
      "4  192.168.3.130      8180         6  10/1/2020 1:39           8782   \n",
      "\n",
      "   Tot Fwd Pkts  Tot Bwd Pkts  ...  Fwd Seg Size Min  Active Mean  Active Std  \\\n",
      "0             4             5  ...                 0          0.0         0.0   \n",
      "1             2             3  ...                 0          0.0         0.0   \n",
      "2             5             5  ...                 0          0.0         0.0   \n",
      "3             4             4  ...                 0          0.0         0.0   \n",
      "4             4             4  ...                 0          0.0         0.0   \n",
      "\n",
      "   Active Max  Active Min  Idle Mean  Idle Std  Idle Max  Idle Min  Label  \n",
      "0         0.0         0.0        0.0       0.0       0.0       0.0    U2R  \n",
      "1         0.0         0.0        0.0       0.0       0.0       0.0    U2R  \n",
      "2         0.0         0.0        0.0       0.0       0.0       0.0    U2R  \n",
      "3         0.0         0.0        0.0       0.0       0.0       0.0    BFA  \n",
      "4         0.0         0.0        0.0       0.0       0.0       0.0    BFA  \n",
      "\n",
      "[5 rows x 84 columns]\n",
      "Probe         98129\n",
      "DDoS          73529\n",
      "Normal        68424\n",
      "DoS           53616\n",
      "DDoS          48413\n",
      "BFA            1405\n",
      "Web-Attack      192\n",
      "BOTNET          164\n",
      "U2R              17\n",
      "Name: Label, dtype: int64\n"
     ]
    }
   ],
   "source": [
    "print(df.head())\n",
    "print(df['Label'].value_counts())"
   ]
  },
  {
   "cell_type": "code",
   "execution_count": 5,
   "id": "8fb21d6e",
   "metadata": {},
   "outputs": [],
   "source": [
    "allZeroColumns = ['Bwd Pkts/b Avg','Bwd Byts/b Avg','Fwd Blk Rate Avg','Fwd Seg Size Min','Fwd Pkts/b Avg', 'Fwd Byts/b Avg', 'Fwd URG Flags', 'ECE Flag Cnt', 'CWE Flag Count', 'Fwd PSH Flags', 'Bwd Blk Rate Avg','Init Fwd Win Byts']\n",
    "df.drop(labels=allZeroColumns, axis='columns', inplace=True)"
   ]
  },
  {
   "cell_type": "markdown",
   "id": "ec8b7774",
   "metadata": {},
   "source": [
    "## Replace space with \"_\"\n",
    "In order to avoid future conflicts, we need to replace spaces with underscores."
   ]
  },
  {
   "cell_type": "code",
   "execution_count": 6,
   "id": "ba96413c",
   "metadata": {},
   "outputs": [
    {
     "name": "stdout",
     "output_type": "stream",
     "text": [
      "                                    Flow_ID         Src_IP  Src_Port  \\\n",
      "0  192.168.3.130-200.175.2.130-38694-4444-6  192.168.3.130     38694   \n",
      "1  192.168.3.130-200.175.2.130-38693-4444-6  192.168.3.130     38693   \n",
      "2  192.168.3.130-200.175.2.130-3632-33747-6  200.175.2.130     33747   \n",
      "3  192.168.3.130-200.175.2.130-8180-38745-6  200.175.2.130     38745   \n",
      "4  192.168.3.130-200.175.2.130-8180-37217-6  200.175.2.130     37217   \n",
      "\n",
      "          Dst_IP  Dst_Port  Protocol       Timestamp  Flow_Duration  \\\n",
      "0  200.175.2.130      4444         6  10/1/2020 5:02         269709   \n",
      "1  200.175.2.130      4444         6  10/1/2020 5:02         268599   \n",
      "2  192.168.3.130      3632         6  10/1/2020 5:02          22194   \n",
      "3  192.168.3.130      8180         6  10/1/2020 1:39           9556   \n",
      "4  192.168.3.130      8180         6  10/1/2020 1:39           8782   \n",
      "\n",
      "   Tot_Fwd_Pkts  Tot_Bwd_Pkts  ...  Fwd_Act_Data_Pkts  Active_Mean  \\\n",
      "0             4             5  ...                  2          0.0   \n",
      "1             2             3  ...                  0          0.0   \n",
      "2             5             5  ...                  2          0.0   \n",
      "3             4             4  ...                  1          0.0   \n",
      "4             4             4  ...                  1          0.0   \n",
      "\n",
      "   Active_Std  Active_Max  Active_Min  Idle_Mean  Idle_Std  Idle_Max  \\\n",
      "0         0.0         0.0         0.0        0.0       0.0       0.0   \n",
      "1         0.0         0.0         0.0        0.0       0.0       0.0   \n",
      "2         0.0         0.0         0.0        0.0       0.0       0.0   \n",
      "3         0.0         0.0         0.0        0.0       0.0       0.0   \n",
      "4         0.0         0.0         0.0        0.0       0.0       0.0   \n",
      "\n",
      "   Idle_Min  Label  \n",
      "0       0.0    U2R  \n",
      "1       0.0    U2R  \n",
      "2       0.0    U2R  \n",
      "3       0.0    BFA  \n",
      "4       0.0    BFA  \n",
      "\n",
      "[5 rows x 72 columns]\n"
     ]
    }
   ],
   "source": [
    "cols = df.columns\n",
    "cols = cols.map(lambda x: x.replace(' ', '_') )\n",
    "df.columns = cols\n",
    "print(df.head())"
   ]
  },
  {
   "cell_type": "markdown",
   "id": "4ebb161c",
   "metadata": {},
   "source": [
    "## Checking for null and INFINITE"
   ]
  },
  {
   "cell_type": "code",
   "execution_count": 7,
   "id": "76d87609",
   "metadata": {},
   "outputs": [
    {
     "data": {
      "text/html": [
       "<div>\n",
       "<style scoped>\n",
       "    .dataframe tbody tr th:only-of-type {\n",
       "        vertical-align: middle;\n",
       "    }\n",
       "\n",
       "    .dataframe tbody tr th {\n",
       "        vertical-align: top;\n",
       "    }\n",
       "\n",
       "    .dataframe thead th {\n",
       "        text-align: right;\n",
       "    }\n",
       "</style>\n",
       "<table border=\"1\" class=\"dataframe\">\n",
       "  <thead>\n",
       "    <tr style=\"text-align: right;\">\n",
       "      <th></th>\n",
       "      <th>Flow_ID</th>\n",
       "      <th>Src_IP</th>\n",
       "      <th>Src_Port</th>\n",
       "      <th>Dst_IP</th>\n",
       "      <th>Dst_Port</th>\n",
       "      <th>Protocol</th>\n",
       "      <th>Timestamp</th>\n",
       "      <th>Flow_Duration</th>\n",
       "      <th>Tot_Fwd_Pkts</th>\n",
       "      <th>Tot_Bwd_Pkts</th>\n",
       "      <th>...</th>\n",
       "      <th>Fwd_Act_Data_Pkts</th>\n",
       "      <th>Active_Mean</th>\n",
       "      <th>Active_Std</th>\n",
       "      <th>Active_Max</th>\n",
       "      <th>Active_Min</th>\n",
       "      <th>Idle_Mean</th>\n",
       "      <th>Idle_Std</th>\n",
       "      <th>Idle_Max</th>\n",
       "      <th>Idle_Min</th>\n",
       "      <th>Label</th>\n",
       "    </tr>\n",
       "  </thead>\n",
       "  <tbody>\n",
       "    <tr>\n",
       "      <th>0</th>\n",
       "      <td>192.168.3.130-200.175.2.130-38694-4444-6</td>\n",
       "      <td>192.168.3.130</td>\n",
       "      <td>38694</td>\n",
       "      <td>200.175.2.130</td>\n",
       "      <td>4444</td>\n",
       "      <td>6</td>\n",
       "      <td>10/1/2020 5:02</td>\n",
       "      <td>269709</td>\n",
       "      <td>4</td>\n",
       "      <td>5</td>\n",
       "      <td>...</td>\n",
       "      <td>2</td>\n",
       "      <td>0.0</td>\n",
       "      <td>0.0</td>\n",
       "      <td>0.0</td>\n",
       "      <td>0.0</td>\n",
       "      <td>0.0</td>\n",
       "      <td>0.0</td>\n",
       "      <td>0.0</td>\n",
       "      <td>0.0</td>\n",
       "      <td>U2R</td>\n",
       "    </tr>\n",
       "    <tr>\n",
       "      <th>1</th>\n",
       "      <td>192.168.3.130-200.175.2.130-38693-4444-6</td>\n",
       "      <td>192.168.3.130</td>\n",
       "      <td>38693</td>\n",
       "      <td>200.175.2.130</td>\n",
       "      <td>4444</td>\n",
       "      <td>6</td>\n",
       "      <td>10/1/2020 5:02</td>\n",
       "      <td>268599</td>\n",
       "      <td>2</td>\n",
       "      <td>3</td>\n",
       "      <td>...</td>\n",
       "      <td>0</td>\n",
       "      <td>0.0</td>\n",
       "      <td>0.0</td>\n",
       "      <td>0.0</td>\n",
       "      <td>0.0</td>\n",
       "      <td>0.0</td>\n",
       "      <td>0.0</td>\n",
       "      <td>0.0</td>\n",
       "      <td>0.0</td>\n",
       "      <td>U2R</td>\n",
       "    </tr>\n",
       "    <tr>\n",
       "      <th>2</th>\n",
       "      <td>192.168.3.130-200.175.2.130-3632-33747-6</td>\n",
       "      <td>200.175.2.130</td>\n",
       "      <td>33747</td>\n",
       "      <td>192.168.3.130</td>\n",
       "      <td>3632</td>\n",
       "      <td>6</td>\n",
       "      <td>10/1/2020 5:02</td>\n",
       "      <td>22194</td>\n",
       "      <td>5</td>\n",
       "      <td>5</td>\n",
       "      <td>...</td>\n",
       "      <td>2</td>\n",
       "      <td>0.0</td>\n",
       "      <td>0.0</td>\n",
       "      <td>0.0</td>\n",
       "      <td>0.0</td>\n",
       "      <td>0.0</td>\n",
       "      <td>0.0</td>\n",
       "      <td>0.0</td>\n",
       "      <td>0.0</td>\n",
       "      <td>U2R</td>\n",
       "    </tr>\n",
       "    <tr>\n",
       "      <th>3</th>\n",
       "      <td>192.168.3.130-200.175.2.130-8180-38745-6</td>\n",
       "      <td>200.175.2.130</td>\n",
       "      <td>38745</td>\n",
       "      <td>192.168.3.130</td>\n",
       "      <td>8180</td>\n",
       "      <td>6</td>\n",
       "      <td>10/1/2020 1:39</td>\n",
       "      <td>9556</td>\n",
       "      <td>4</td>\n",
       "      <td>4</td>\n",
       "      <td>...</td>\n",
       "      <td>1</td>\n",
       "      <td>0.0</td>\n",
       "      <td>0.0</td>\n",
       "      <td>0.0</td>\n",
       "      <td>0.0</td>\n",
       "      <td>0.0</td>\n",
       "      <td>0.0</td>\n",
       "      <td>0.0</td>\n",
       "      <td>0.0</td>\n",
       "      <td>BFA</td>\n",
       "    </tr>\n",
       "    <tr>\n",
       "      <th>4</th>\n",
       "      <td>192.168.3.130-200.175.2.130-8180-37217-6</td>\n",
       "      <td>200.175.2.130</td>\n",
       "      <td>37217</td>\n",
       "      <td>192.168.3.130</td>\n",
       "      <td>8180</td>\n",
       "      <td>6</td>\n",
       "      <td>10/1/2020 1:39</td>\n",
       "      <td>8782</td>\n",
       "      <td>4</td>\n",
       "      <td>4</td>\n",
       "      <td>...</td>\n",
       "      <td>1</td>\n",
       "      <td>0.0</td>\n",
       "      <td>0.0</td>\n",
       "      <td>0.0</td>\n",
       "      <td>0.0</td>\n",
       "      <td>0.0</td>\n",
       "      <td>0.0</td>\n",
       "      <td>0.0</td>\n",
       "      <td>0.0</td>\n",
       "      <td>BFA</td>\n",
       "    </tr>\n",
       "    <tr>\n",
       "      <th>...</th>\n",
       "      <td>...</td>\n",
       "      <td>...</td>\n",
       "      <td>...</td>\n",
       "      <td>...</td>\n",
       "      <td>...</td>\n",
       "      <td>...</td>\n",
       "      <td>...</td>\n",
       "      <td>...</td>\n",
       "      <td>...</td>\n",
       "      <td>...</td>\n",
       "      <td>...</td>\n",
       "      <td>...</td>\n",
       "      <td>...</td>\n",
       "      <td>...</td>\n",
       "      <td>...</td>\n",
       "      <td>...</td>\n",
       "      <td>...</td>\n",
       "      <td>...</td>\n",
       "      <td>...</td>\n",
       "      <td>...</td>\n",
       "      <td>...</td>\n",
       "    </tr>\n",
       "    <tr>\n",
       "      <th>343884</th>\n",
       "      <td>172.17.0.2-200.175.2.130-80-55440-6</td>\n",
       "      <td>200.175.2.130</td>\n",
       "      <td>55440</td>\n",
       "      <td>172.17.0.2</td>\n",
       "      <td>80</td>\n",
       "      <td>6</td>\n",
       "      <td>25/12/2019 05:19:55 PM</td>\n",
       "      <td>296</td>\n",
       "      <td>1</td>\n",
       "      <td>1</td>\n",
       "      <td>...</td>\n",
       "      <td>0</td>\n",
       "      <td>0.0</td>\n",
       "      <td>0.0</td>\n",
       "      <td>0.0</td>\n",
       "      <td>0.0</td>\n",
       "      <td>0.0</td>\n",
       "      <td>0.0</td>\n",
       "      <td>0.0</td>\n",
       "      <td>0.0</td>\n",
       "      <td>Web-Attack</td>\n",
       "    </tr>\n",
       "    <tr>\n",
       "      <th>343885</th>\n",
       "      <td>172.17.0.2-200.175.2.130-80-55446-6</td>\n",
       "      <td>200.175.2.130</td>\n",
       "      <td>55446</td>\n",
       "      <td>172.17.0.2</td>\n",
       "      <td>80</td>\n",
       "      <td>6</td>\n",
       "      <td>25/12/2019 05:20:00 PM</td>\n",
       "      <td>3431</td>\n",
       "      <td>2</td>\n",
       "      <td>5</td>\n",
       "      <td>...</td>\n",
       "      <td>1</td>\n",
       "      <td>0.0</td>\n",
       "      <td>0.0</td>\n",
       "      <td>0.0</td>\n",
       "      <td>0.0</td>\n",
       "      <td>0.0</td>\n",
       "      <td>0.0</td>\n",
       "      <td>0.0</td>\n",
       "      <td>0.0</td>\n",
       "      <td>Web-Attack</td>\n",
       "    </tr>\n",
       "    <tr>\n",
       "      <th>343886</th>\n",
       "      <td>172.17.0.2-200.175.2.130-80-55446-6</td>\n",
       "      <td>200.175.2.130</td>\n",
       "      <td>55446</td>\n",
       "      <td>172.17.0.2</td>\n",
       "      <td>80</td>\n",
       "      <td>6</td>\n",
       "      <td>25/12/2019 05:20:00 PM</td>\n",
       "      <td>4121</td>\n",
       "      <td>1</td>\n",
       "      <td>1</td>\n",
       "      <td>...</td>\n",
       "      <td>0</td>\n",
       "      <td>0.0</td>\n",
       "      <td>0.0</td>\n",
       "      <td>0.0</td>\n",
       "      <td>0.0</td>\n",
       "      <td>0.0</td>\n",
       "      <td>0.0</td>\n",
       "      <td>0.0</td>\n",
       "      <td>0.0</td>\n",
       "      <td>Web-Attack</td>\n",
       "    </tr>\n",
       "    <tr>\n",
       "      <th>343887</th>\n",
       "      <td>172.17.0.2-200.175.2.130-80-55456-6</td>\n",
       "      <td>200.175.2.130</td>\n",
       "      <td>55456</td>\n",
       "      <td>172.17.0.2</td>\n",
       "      <td>80</td>\n",
       "      <td>6</td>\n",
       "      <td>25/12/2019 05:20:05 PM</td>\n",
       "      <td>5887</td>\n",
       "      <td>2</td>\n",
       "      <td>5</td>\n",
       "      <td>...</td>\n",
       "      <td>1</td>\n",
       "      <td>0.0</td>\n",
       "      <td>0.0</td>\n",
       "      <td>0.0</td>\n",
       "      <td>0.0</td>\n",
       "      <td>0.0</td>\n",
       "      <td>0.0</td>\n",
       "      <td>0.0</td>\n",
       "      <td>0.0</td>\n",
       "      <td>Web-Attack</td>\n",
       "    </tr>\n",
       "    <tr>\n",
       "      <th>343888</th>\n",
       "      <td>172.17.0.2-200.175.2.130-80-55456-6</td>\n",
       "      <td>200.175.2.130</td>\n",
       "      <td>55456</td>\n",
       "      <td>172.17.0.2</td>\n",
       "      <td>80</td>\n",
       "      <td>6</td>\n",
       "      <td>25/12/2019 05:20:05 PM</td>\n",
       "      <td>150</td>\n",
       "      <td>1</td>\n",
       "      <td>1</td>\n",
       "      <td>...</td>\n",
       "      <td>0</td>\n",
       "      <td>0.0</td>\n",
       "      <td>0.0</td>\n",
       "      <td>0.0</td>\n",
       "      <td>0.0</td>\n",
       "      <td>0.0</td>\n",
       "      <td>0.0</td>\n",
       "      <td>0.0</td>\n",
       "      <td>0.0</td>\n",
       "      <td>Web-Attack</td>\n",
       "    </tr>\n",
       "  </tbody>\n",
       "</table>\n",
       "<p>343889 rows × 72 columns</p>\n",
       "</div>"
      ],
      "text/plain": [
       "                                         Flow_ID         Src_IP  Src_Port  \\\n",
       "0       192.168.3.130-200.175.2.130-38694-4444-6  192.168.3.130     38694   \n",
       "1       192.168.3.130-200.175.2.130-38693-4444-6  192.168.3.130     38693   \n",
       "2       192.168.3.130-200.175.2.130-3632-33747-6  200.175.2.130     33747   \n",
       "3       192.168.3.130-200.175.2.130-8180-38745-6  200.175.2.130     38745   \n",
       "4       192.168.3.130-200.175.2.130-8180-37217-6  200.175.2.130     37217   \n",
       "...                                          ...            ...       ...   \n",
       "343884       172.17.0.2-200.175.2.130-80-55440-6  200.175.2.130     55440   \n",
       "343885       172.17.0.2-200.175.2.130-80-55446-6  200.175.2.130     55446   \n",
       "343886       172.17.0.2-200.175.2.130-80-55446-6  200.175.2.130     55446   \n",
       "343887       172.17.0.2-200.175.2.130-80-55456-6  200.175.2.130     55456   \n",
       "343888       172.17.0.2-200.175.2.130-80-55456-6  200.175.2.130     55456   \n",
       "\n",
       "               Dst_IP  Dst_Port  Protocol               Timestamp  \\\n",
       "0       200.175.2.130      4444         6          10/1/2020 5:02   \n",
       "1       200.175.2.130      4444         6          10/1/2020 5:02   \n",
       "2       192.168.3.130      3632         6          10/1/2020 5:02   \n",
       "3       192.168.3.130      8180         6          10/1/2020 1:39   \n",
       "4       192.168.3.130      8180         6          10/1/2020 1:39   \n",
       "...               ...       ...       ...                     ...   \n",
       "343884     172.17.0.2        80         6  25/12/2019 05:19:55 PM   \n",
       "343885     172.17.0.2        80         6  25/12/2019 05:20:00 PM   \n",
       "343886     172.17.0.2        80         6  25/12/2019 05:20:00 PM   \n",
       "343887     172.17.0.2        80         6  25/12/2019 05:20:05 PM   \n",
       "343888     172.17.0.2        80         6  25/12/2019 05:20:05 PM   \n",
       "\n",
       "        Flow_Duration  Tot_Fwd_Pkts  Tot_Bwd_Pkts  ...  Fwd_Act_Data_Pkts  \\\n",
       "0              269709             4             5  ...                  2   \n",
       "1              268599             2             3  ...                  0   \n",
       "2               22194             5             5  ...                  2   \n",
       "3                9556             4             4  ...                  1   \n",
       "4                8782             4             4  ...                  1   \n",
       "...               ...           ...           ...  ...                ...   \n",
       "343884            296             1             1  ...                  0   \n",
       "343885           3431             2             5  ...                  1   \n",
       "343886           4121             1             1  ...                  0   \n",
       "343887           5887             2             5  ...                  1   \n",
       "343888            150             1             1  ...                  0   \n",
       "\n",
       "        Active_Mean  Active_Std  Active_Max  Active_Min  Idle_Mean  Idle_Std  \\\n",
       "0               0.0         0.0         0.0         0.0        0.0       0.0   \n",
       "1               0.0         0.0         0.0         0.0        0.0       0.0   \n",
       "2               0.0         0.0         0.0         0.0        0.0       0.0   \n",
       "3               0.0         0.0         0.0         0.0        0.0       0.0   \n",
       "4               0.0         0.0         0.0         0.0        0.0       0.0   \n",
       "...             ...         ...         ...         ...        ...       ...   \n",
       "343884          0.0         0.0         0.0         0.0        0.0       0.0   \n",
       "343885          0.0         0.0         0.0         0.0        0.0       0.0   \n",
       "343886          0.0         0.0         0.0         0.0        0.0       0.0   \n",
       "343887          0.0         0.0         0.0         0.0        0.0       0.0   \n",
       "343888          0.0         0.0         0.0         0.0        0.0       0.0   \n",
       "\n",
       "        Idle_Max  Idle_Min       Label  \n",
       "0            0.0       0.0         U2R  \n",
       "1            0.0       0.0         U2R  \n",
       "2            0.0       0.0         U2R  \n",
       "3            0.0       0.0         BFA  \n",
       "4            0.0       0.0         BFA  \n",
       "...          ...       ...         ...  \n",
       "343884       0.0       0.0  Web-Attack  \n",
       "343885       0.0       0.0  Web-Attack  \n",
       "343886       0.0       0.0  Web-Attack  \n",
       "343887       0.0       0.0  Web-Attack  \n",
       "343888       0.0       0.0  Web-Attack  \n",
       "\n",
       "[343889 rows x 72 columns]"
      ]
     },
     "execution_count": 7,
     "metadata": {},
     "output_type": "execute_result"
    }
   ],
   "source": [
    "#replace infinit number\n",
    "df=df.replace([np.inf, -np.inf], np.nan).dropna(axis=1)\n",
    "\n",
    "#drop null\n",
    "df.dropna(how = 'all')"
   ]
  },
  {
   "cell_type": "markdown",
   "id": "3ce7379b",
   "metadata": {},
   "source": [
    "## Checking Data type"
   ]
  },
  {
   "cell_type": "code",
   "execution_count": 8,
   "id": "6899e211",
   "metadata": {},
   "outputs": [
    {
     "name": "stdout",
     "output_type": "stream",
     "text": [
      "Data type of each column of Dataframe :\n",
      "<class 'pandas.core.frame.DataFrame'>\n",
      "RangeIndex: 343889 entries, 0 to 343888\n",
      "Data columns (total 72 columns):\n",
      " #   Column             Non-Null Count   Dtype  \n",
      "---  ------             --------------   -----  \n",
      " 0   Flow_ID            343889 non-null  object \n",
      " 1   Src_IP             343889 non-null  object \n",
      " 2   Src_Port           343889 non-null  int64  \n",
      " 3   Dst_IP             343889 non-null  object \n",
      " 4   Dst_Port           343889 non-null  int64  \n",
      " 5   Protocol           343889 non-null  int64  \n",
      " 6   Timestamp          343889 non-null  object \n",
      " 7   Flow_Duration      343889 non-null  int64  \n",
      " 8   Tot_Fwd_Pkts       343889 non-null  int64  \n",
      " 9   Tot_Bwd_Pkts       343889 non-null  int64  \n",
      " 10  TotLen_Fwd_Pkts    343889 non-null  float64\n",
      " 11  TotLen_Bwd_Pkts    343889 non-null  float64\n",
      " 12  Fwd_Pkt_Len_Max    343889 non-null  int64  \n",
      " 13  Fwd_Pkt_Len_Min    343889 non-null  int64  \n",
      " 14  Fwd_Pkt_Len_Mean   343889 non-null  float64\n",
      " 15  Fwd_Pkt_Len_Std    343889 non-null  float64\n",
      " 16  Bwd_Pkt_Len_Max    343889 non-null  int64  \n",
      " 17  Bwd_Pkt_Len_Min    343889 non-null  int64  \n",
      " 18  Bwd_Pkt_Len_Mean   343889 non-null  float64\n",
      " 19  Bwd_Pkt_Len_Std    343889 non-null  float64\n",
      " 20  Flow_Byts/s        343889 non-null  float64\n",
      " 21  Flow_Pkts/s        343889 non-null  float64\n",
      " 22  Flow_IAT_Mean      343889 non-null  float64\n",
      " 23  Flow_IAT_Std       343889 non-null  float64\n",
      " 24  Flow_IAT_Max       343889 non-null  float64\n",
      " 25  Flow_IAT_Min       343889 non-null  float64\n",
      " 26  Fwd_IAT_Tot        343889 non-null  float64\n",
      " 27  Fwd_IAT_Mean       343889 non-null  float64\n",
      " 28  Fwd_IAT_Std        343889 non-null  float64\n",
      " 29  Fwd_IAT_Max        343889 non-null  float64\n",
      " 30  Fwd_IAT_Min        343889 non-null  float64\n",
      " 31  Bwd_IAT_Tot        343889 non-null  float64\n",
      " 32  Bwd_IAT_Mean       343889 non-null  float64\n",
      " 33  Bwd_IAT_Std        343889 non-null  float64\n",
      " 34  Bwd_IAT_Max        343889 non-null  float64\n",
      " 35  Bwd_IAT_Min        343889 non-null  float64\n",
      " 36  Bwd_PSH_Flags      343889 non-null  int64  \n",
      " 37  Bwd_URG_Flags      343889 non-null  int64  \n",
      " 38  Fwd_Header_Len     343889 non-null  int64  \n",
      " 39  Bwd_Header_Len     343889 non-null  int64  \n",
      " 40  Fwd_Pkts/s         343889 non-null  float64\n",
      " 41  Bwd_Pkts/s         343889 non-null  float64\n",
      " 42  Pkt_Len_Min        343889 non-null  int64  \n",
      " 43  Pkt_Len_Max        343889 non-null  int64  \n",
      " 44  Pkt_Len_Mean       343889 non-null  float64\n",
      " 45  Pkt_Len_Std        343889 non-null  float64\n",
      " 46  Pkt_Len_Var        343889 non-null  float64\n",
      " 47  FIN_Flag_Cnt       343889 non-null  int64  \n",
      " 48  SYN_Flag_Cnt       343889 non-null  int64  \n",
      " 49  RST_Flag_Cnt       343889 non-null  int64  \n",
      " 50  PSH_Flag_Cnt       343889 non-null  int64  \n",
      " 51  ACK_Flag_Cnt       343889 non-null  int64  \n",
      " 52  URG_Flag_Cnt       343889 non-null  int64  \n",
      " 53  Down/Up_Ratio      343889 non-null  int64  \n",
      " 54  Pkt_Size_Avg       343889 non-null  float64\n",
      " 55  Fwd_Seg_Size_Avg   343889 non-null  float64\n",
      " 56  Bwd_Seg_Size_Avg   343889 non-null  float64\n",
      " 57  Subflow_Fwd_Pkts   343889 non-null  int64  \n",
      " 58  Subflow_Fwd_Byts   343889 non-null  int64  \n",
      " 59  Subflow_Bwd_Pkts   343889 non-null  int64  \n",
      " 60  Subflow_Bwd_Byts   343889 non-null  int64  \n",
      " 61  Init_Bwd_Win_Byts  343889 non-null  int64  \n",
      " 62  Fwd_Act_Data_Pkts  343889 non-null  int64  \n",
      " 63  Active_Mean        343889 non-null  float64\n",
      " 64  Active_Std         343889 non-null  float64\n",
      " 65  Active_Max         343889 non-null  float64\n",
      " 66  Active_Min         343889 non-null  float64\n",
      " 67  Idle_Mean          343889 non-null  float64\n",
      " 68  Idle_Std           343889 non-null  float64\n",
      " 69  Idle_Max           343889 non-null  float64\n",
      " 70  Idle_Min           343889 non-null  float64\n",
      " 71  Label              343889 non-null  object \n",
      "dtypes: float64(38), int64(29), object(5)\n",
      "memory usage: 188.9+ MB\n"
     ]
    }
   ],
   "source": [
    "print('Data type of each column of Dataframe :')\n",
    "df.info(verbose=True)"
   ]
  },
  {
   "cell_type": "markdown",
   "id": "8db4f106",
   "metadata": {},
   "source": [
    "## Drop all column contain object datatype exept Label\n",
    "Drop Timestamp, Flow_id, Src_ip and Dst_ip columns as they contain object datatype and will not be usefull in traning model. "
   ]
  },
  {
   "cell_type": "code",
   "execution_count": 9,
   "id": "77b89cbe",
   "metadata": {},
   "outputs": [
    {
     "name": "stdout",
     "output_type": "stream",
     "text": [
      "Timestamp,  Flow_ID,  Src_IP,  Dst_IP,  columns are dropped\n"
     ]
    }
   ],
   "source": [
    "df = df.drop(columns=['Timestamp', 'Flow_ID', 'Src_IP', 'Dst_IP'])\n",
    "print('Timestamp, ', 'Flow_ID, ', 'Src_IP, ', 'Dst_IP, ', \"columns are dropped\")"
   ]
  },
  {
   "cell_type": "markdown",
   "id": "368d24a1",
   "metadata": {},
   "source": [
    "## Modify Label column\n",
    "Label column consists of the main values which defines waether the data in the raw discribe attach or not. In order to convert from object to numaric, first look in to data exists in the column."
   ]
  },
  {
   "cell_type": "code",
   "execution_count": 10,
   "id": "33976fb9",
   "metadata": {},
   "outputs": [
    {
     "name": "stdout",
     "output_type": "stream",
     "text": [
      "Probe         98129\n",
      "DDoS          73529\n",
      "Normal        68424\n",
      "DoS           53616\n",
      "DDoS          48413\n",
      "BFA            1405\n",
      "Web-Attack      192\n",
      "BOTNET          164\n",
      "U2R              17\n",
      "Name: Label, dtype: int64\n"
     ]
    }
   ],
   "source": [
    "print(df['Label'].value_counts())"
   ]
  },
  {
   "cell_type": "markdown",
   "id": "a5750bf7",
   "metadata": {},
   "source": [
    "As we can see there are only two values present. Now we can use binary method to catogaries the data as below.\n",
    "<br>benign --> 0\n",
    "<br>DDoS attacks --> 1"
   ]
  },
  {
   "cell_type": "code",
   "execution_count": 11,
   "id": "23c5d6a6",
   "metadata": {},
   "outputs": [],
   "source": [
    "df.loc[df['Label'] == 'DDoS ', 'Label'] = 'DDoS'"
   ]
  },
  {
   "cell_type": "code",
   "execution_count": 12,
   "id": "0fae7d48",
   "metadata": {},
   "outputs": [
    {
     "data": {
      "text/plain": [
       "2    121942\n",
       "5     98129\n",
       "4     68424\n",
       "3     53616\n",
       "0      1405\n",
       "7       192\n",
       "1       164\n",
       "6        17\n",
       "Name: Label, dtype: int64"
      ]
     },
     "execution_count": 12,
     "metadata": {},
     "output_type": "execute_result"
    }
   ],
   "source": [
    "# label encoding\n",
    "labelencoder = LabelEncoder()\n",
    "df['Label'] = labelencoder.fit_transform(df['Label'])\n",
    "\n",
    "df['Label'].value_counts()"
   ]
  },
  {
   "cell_type": "code",
   "execution_count": 13,
   "id": "7735f369",
   "metadata": {},
   "outputs": [
    {
     "name": "stdout",
     "output_type": "stream",
     "text": [
      "2    121942\n",
      "5     98129\n",
      "4     68424\n",
      "3     53616\n",
      "0      1405\n",
      "7       192\n",
      "1       164\n",
      "6        17\n",
      "Name: Label, dtype: int64\n"
     ]
    }
   ],
   "source": [
    "df[\"Label\"].astype('float')\n",
    "print(df['Label'].value_counts())"
   ]
  },
  {
   "cell_type": "markdown",
   "id": "75d9d34f",
   "metadata": {},
   "source": [
    "## Converting categorical variables to integers"
   ]
  },
  {
   "cell_type": "code",
   "execution_count": 14,
   "id": "df2601e1",
   "metadata": {},
   "outputs": [
    {
     "name": "stdout",
     "output_type": "stream",
     "text": [
      "Index([], dtype='object')\n",
      "Index([], dtype='object')\n",
      "Data type of each column of Dataframe :\n",
      "<class 'pandas.core.frame.DataFrame'>\n",
      "RangeIndex: 343889 entries, 0 to 343888\n",
      "Data columns (total 68 columns):\n",
      " #   Column             Non-Null Count   Dtype  \n",
      "---  ------             --------------   -----  \n",
      " 0   Src_Port           343889 non-null  int64  \n",
      " 1   Dst_Port           343889 non-null  int64  \n",
      " 2   Protocol           343889 non-null  int64  \n",
      " 3   Flow_Duration      343889 non-null  int64  \n",
      " 4   Tot_Fwd_Pkts       343889 non-null  int64  \n",
      " 5   Tot_Bwd_Pkts       343889 non-null  int64  \n",
      " 6   TotLen_Fwd_Pkts    343889 non-null  float64\n",
      " 7   TotLen_Bwd_Pkts    343889 non-null  float64\n",
      " 8   Fwd_Pkt_Len_Max    343889 non-null  int64  \n",
      " 9   Fwd_Pkt_Len_Min    343889 non-null  int64  \n",
      " 10  Fwd_Pkt_Len_Mean   343889 non-null  float64\n",
      " 11  Fwd_Pkt_Len_Std    343889 non-null  float64\n",
      " 12  Bwd_Pkt_Len_Max    343889 non-null  int64  \n",
      " 13  Bwd_Pkt_Len_Min    343889 non-null  int64  \n",
      " 14  Bwd_Pkt_Len_Mean   343889 non-null  float64\n",
      " 15  Bwd_Pkt_Len_Std    343889 non-null  float64\n",
      " 16  Flow_Byts/s        343889 non-null  float64\n",
      " 17  Flow_Pkts/s        343889 non-null  float64\n",
      " 18  Flow_IAT_Mean      343889 non-null  float64\n",
      " 19  Flow_IAT_Std       343889 non-null  float64\n",
      " 20  Flow_IAT_Max       343889 non-null  float64\n",
      " 21  Flow_IAT_Min       343889 non-null  float64\n",
      " 22  Fwd_IAT_Tot        343889 non-null  float64\n",
      " 23  Fwd_IAT_Mean       343889 non-null  float64\n",
      " 24  Fwd_IAT_Std        343889 non-null  float64\n",
      " 25  Fwd_IAT_Max        343889 non-null  float64\n",
      " 26  Fwd_IAT_Min        343889 non-null  float64\n",
      " 27  Bwd_IAT_Tot        343889 non-null  float64\n",
      " 28  Bwd_IAT_Mean       343889 non-null  float64\n",
      " 29  Bwd_IAT_Std        343889 non-null  float64\n",
      " 30  Bwd_IAT_Max        343889 non-null  float64\n",
      " 31  Bwd_IAT_Min        343889 non-null  float64\n",
      " 32  Bwd_PSH_Flags      343889 non-null  int64  \n",
      " 33  Bwd_URG_Flags      343889 non-null  int64  \n",
      " 34  Fwd_Header_Len     343889 non-null  int64  \n",
      " 35  Bwd_Header_Len     343889 non-null  int64  \n",
      " 36  Fwd_Pkts/s         343889 non-null  float64\n",
      " 37  Bwd_Pkts/s         343889 non-null  float64\n",
      " 38  Pkt_Len_Min        343889 non-null  int64  \n",
      " 39  Pkt_Len_Max        343889 non-null  int64  \n",
      " 40  Pkt_Len_Mean       343889 non-null  float64\n",
      " 41  Pkt_Len_Std        343889 non-null  float64\n",
      " 42  Pkt_Len_Var        343889 non-null  float64\n",
      " 43  FIN_Flag_Cnt       343889 non-null  int64  \n",
      " 44  SYN_Flag_Cnt       343889 non-null  int64  \n",
      " 45  RST_Flag_Cnt       343889 non-null  int64  \n",
      " 46  PSH_Flag_Cnt       343889 non-null  int64  \n",
      " 47  ACK_Flag_Cnt       343889 non-null  int64  \n",
      " 48  URG_Flag_Cnt       343889 non-null  int64  \n",
      " 49  Down/Up_Ratio      343889 non-null  int64  \n",
      " 50  Pkt_Size_Avg       343889 non-null  float64\n",
      " 51  Fwd_Seg_Size_Avg   343889 non-null  float64\n",
      " 52  Bwd_Seg_Size_Avg   343889 non-null  float64\n",
      " 53  Subflow_Fwd_Pkts   343889 non-null  int64  \n",
      " 54  Subflow_Fwd_Byts   343889 non-null  int64  \n",
      " 55  Subflow_Bwd_Pkts   343889 non-null  int64  \n",
      " 56  Subflow_Bwd_Byts   343889 non-null  int64  \n",
      " 57  Init_Bwd_Win_Byts  343889 non-null  int64  \n",
      " 58  Fwd_Act_Data_Pkts  343889 non-null  int64  \n",
      " 59  Active_Mean        343889 non-null  float64\n",
      " 60  Active_Std         343889 non-null  float64\n",
      " 61  Active_Max         343889 non-null  float64\n",
      " 62  Active_Min         343889 non-null  float64\n",
      " 63  Idle_Mean          343889 non-null  float64\n",
      " 64  Idle_Std           343889 non-null  float64\n",
      " 65  Idle_Max           343889 non-null  float64\n",
      " 66  Idle_Min           343889 non-null  float64\n",
      " 67  Label              343889 non-null  int64  \n",
      "dtypes: float64(38), int64(30)\n",
      "memory usage: 178.4 MB\n"
     ]
    }
   ],
   "source": [
    "cat_cols = df.select_dtypes(include=['object', 'category']).columns\n",
    "print(cat_cols)\n",
    "\n",
    "cat_cols = df.select_dtypes(include='object').columns\n",
    "print(cat_cols)\n",
    "\n",
    "print('Data type of each column of Dataframe :')\n",
    "df.info(verbose=True)"
   ]
  },
  {
   "cell_type": "markdown",
   "id": "19357d3c",
   "metadata": {},
   "source": [
    "## Creating train_df dataset"
   ]
  },
  {
   "cell_type": "code",
   "execution_count": 15,
   "id": "4a400c97",
   "metadata": {},
   "outputs": [
    {
     "name": "stdout",
     "output_type": "stream",
     "text": [
      "Data type of each column of Dataframe :\n",
      "<class 'pandas.core.frame.DataFrame'>\n",
      "RangeIndex: 343889 entries, 0 to 343888\n",
      "Data columns (total 68 columns):\n",
      " #   Column             Non-Null Count   Dtype  \n",
      "---  ------             --------------   -----  \n",
      " 0   Src_Port           343889 non-null  int64  \n",
      " 1   Dst_Port           343889 non-null  int64  \n",
      " 2   Protocol           343889 non-null  int64  \n",
      " 3   Flow_Duration      343889 non-null  int64  \n",
      " 4   Tot_Fwd_Pkts       343889 non-null  int64  \n",
      " 5   Tot_Bwd_Pkts       343889 non-null  int64  \n",
      " 6   TotLen_Fwd_Pkts    343889 non-null  float64\n",
      " 7   TotLen_Bwd_Pkts    343889 non-null  float64\n",
      " 8   Fwd_Pkt_Len_Max    343889 non-null  int64  \n",
      " 9   Fwd_Pkt_Len_Min    343889 non-null  int64  \n",
      " 10  Fwd_Pkt_Len_Mean   343889 non-null  float64\n",
      " 11  Fwd_Pkt_Len_Std    343889 non-null  float64\n",
      " 12  Bwd_Pkt_Len_Max    343889 non-null  int64  \n",
      " 13  Bwd_Pkt_Len_Min    343889 non-null  int64  \n",
      " 14  Bwd_Pkt_Len_Mean   343889 non-null  float64\n",
      " 15  Bwd_Pkt_Len_Std    343889 non-null  float64\n",
      " 16  Flow_Byts/s        343889 non-null  float64\n",
      " 17  Flow_Pkts/s        343889 non-null  float64\n",
      " 18  Flow_IAT_Mean      343889 non-null  float64\n",
      " 19  Flow_IAT_Std       343889 non-null  float64\n",
      " 20  Flow_IAT_Max       343889 non-null  float64\n",
      " 21  Flow_IAT_Min       343889 non-null  float64\n",
      " 22  Fwd_IAT_Tot        343889 non-null  float64\n",
      " 23  Fwd_IAT_Mean       343889 non-null  float64\n",
      " 24  Fwd_IAT_Std        343889 non-null  float64\n",
      " 25  Fwd_IAT_Max        343889 non-null  float64\n",
      " 26  Fwd_IAT_Min        343889 non-null  float64\n",
      " 27  Bwd_IAT_Tot        343889 non-null  float64\n",
      " 28  Bwd_IAT_Mean       343889 non-null  float64\n",
      " 29  Bwd_IAT_Std        343889 non-null  float64\n",
      " 30  Bwd_IAT_Max        343889 non-null  float64\n",
      " 31  Bwd_IAT_Min        343889 non-null  float64\n",
      " 32  Bwd_PSH_Flags      343889 non-null  int64  \n",
      " 33  Bwd_URG_Flags      343889 non-null  int64  \n",
      " 34  Fwd_Header_Len     343889 non-null  int64  \n",
      " 35  Bwd_Header_Len     343889 non-null  int64  \n",
      " 36  Fwd_Pkts/s         343889 non-null  float64\n",
      " 37  Bwd_Pkts/s         343889 non-null  float64\n",
      " 38  Pkt_Len_Min        343889 non-null  int64  \n",
      " 39  Pkt_Len_Max        343889 non-null  int64  \n",
      " 40  Pkt_Len_Mean       343889 non-null  float64\n",
      " 41  Pkt_Len_Std        343889 non-null  float64\n",
      " 42  Pkt_Len_Var        343889 non-null  float64\n",
      " 43  FIN_Flag_Cnt       343889 non-null  int64  \n",
      " 44  SYN_Flag_Cnt       343889 non-null  int64  \n",
      " 45  RST_Flag_Cnt       343889 non-null  int64  \n",
      " 46  PSH_Flag_Cnt       343889 non-null  int64  \n",
      " 47  ACK_Flag_Cnt       343889 non-null  int64  \n",
      " 48  URG_Flag_Cnt       343889 non-null  int64  \n",
      " 49  Down/Up_Ratio      343889 non-null  int64  \n",
      " 50  Pkt_Size_Avg       343889 non-null  float64\n",
      " 51  Fwd_Seg_Size_Avg   343889 non-null  float64\n",
      " 52  Bwd_Seg_Size_Avg   343889 non-null  float64\n",
      " 53  Subflow_Fwd_Pkts   343889 non-null  int64  \n",
      " 54  Subflow_Fwd_Byts   343889 non-null  int64  \n",
      " 55  Subflow_Bwd_Pkts   343889 non-null  int64  \n",
      " 56  Subflow_Bwd_Byts   343889 non-null  int64  \n",
      " 57  Init_Bwd_Win_Byts  343889 non-null  int64  \n",
      " 58  Fwd_Act_Data_Pkts  343889 non-null  int64  \n",
      " 59  Active_Mean        343889 non-null  float64\n",
      " 60  Active_Std         343889 non-null  float64\n",
      " 61  Active_Max         343889 non-null  float64\n",
      " 62  Active_Min         343889 non-null  float64\n",
      " 63  Idle_Mean          343889 non-null  float64\n",
      " 64  Idle_Std           343889 non-null  float64\n",
      " 65  Idle_Max           343889 non-null  float64\n",
      " 66  Idle_Min           343889 non-null  float64\n",
      " 67  Label              343889 non-null  int64  \n",
      "dtypes: float64(38), int64(30)\n",
      "memory usage: 178.4 MB\n"
     ]
    }
   ],
   "source": [
    "# Shuffle the rows\n",
    "df = df.sample(frac=1, random_state=42).reset_index(drop=True)\n",
    "\n",
    "# Select a subset of the data for training\n",
    "num_data = 343889 # can change between 500 and 1152382\n",
    "train_df = df.iloc[:num_data].copy() # Use .iloc to avoid a SettingWithCopyWarning\n",
    "\n",
    "\n",
    "print('Data type of each column of Dataframe :')\n",
    "train_df.info(verbose=True)"
   ]
  },
  {
   "cell_type": "markdown",
   "id": "d8e58368",
   "metadata": {},
   "source": [
    "# Split dataset"
   ]
  },
  {
   "cell_type": "code",
   "execution_count": 16,
   "id": "cffafe08",
   "metadata": {},
   "outputs": [],
   "source": [
    "train_size = int(0.7 * len(train_df))\n",
    "test_size = int(0.30 * len(train_df))\n",
    "\n",
    "train_data = train_df.iloc[:train_size, :]\n",
    "test_data = train_df.iloc[train_size:, :]"
   ]
  },
  {
   "cell_type": "markdown",
   "id": "391a9491",
   "metadata": {},
   "source": [
    "# Generate sequences"
   ]
  },
  {
   "cell_type": "code",
   "execution_count": 17,
   "id": "340d9efc",
   "metadata": {},
   "outputs": [],
   "source": [
    "# Define sequence length and overlap\n",
    "seq_length = 10 # Sequence length\n",
    "seq_overlap = 5 # Overlap between sequences\n",
    "\n",
    "# Function to generate sequences\n",
    "def generate_sequences(data):\n",
    "    seqs = []\n",
    "    for i in range(0, len(data) - seq_length + 1, seq_overlap):\n",
    "        seqs.append(data.iloc[i:i+seq_length, :])\n",
    "    return seqs\n",
    "\n",
    "scaler = StandardScaler()\n",
    "train_seqs_tmp = scaler.fit_transform(train_data)\n",
    "test_seqs_tmp = scaler.fit_transform(test_data)\n",
    "\n",
    "# Generate sequences for train, validation, and test sets\n",
    "train_seqs = generate_sequences(pd.DataFrame(train_seqs_tmp))\n",
    "test_seqs = generate_sequences(pd.DataFrame(test_seqs_tmp))"
   ]
  },
  {
   "cell_type": "markdown",
   "id": "1d8ded22",
   "metadata": {},
   "source": [
    "# pad sequences"
   ]
  },
  {
   "cell_type": "code",
   "execution_count": 18,
   "id": "18bb8bc4",
   "metadata": {},
   "outputs": [],
   "source": [
    "# Function to pad sequences\n",
    "def pad_sequences(seqs):\n",
    "    padded_seqs = []\n",
    "    for seq in seqs:\n",
    "        if len(seq) < seq_length:\n",
    "            padded_seq = np.concatenate((seq, np.zeros((seq_length-len(seq), len(df.columns)))), axis=0)\n",
    "        else:\n",
    "            padded_seq = seq\n",
    "        padded_seqs.append(padded_seq)\n",
    "    return np.array(padded_seqs)\n",
    "\n",
    "# Pad sequences for train, validation, and test sets\n",
    "train_seqs = pad_sequences(train_seqs)\n",
    "test_seqs = pad_sequences(test_seqs)"
   ]
  },
  {
   "cell_type": "markdown",
   "id": "63eae460",
   "metadata": {},
   "source": [
    "# Reshape input"
   ]
  },
  {
   "cell_type": "code",
   "execution_count": 19,
   "id": "e03f0b47",
   "metadata": {},
   "outputs": [],
   "source": [
    "# Reshape input\n",
    "train_X = np.reshape(train_seqs, (train_seqs.shape[0], train_seqs.shape[1], len(train_df.columns)))\n",
    "test_X = np.reshape(test_seqs, (test_seqs.shape[0], test_seqs.shape[1], len(train_df.columns)))"
   ]
  },
  {
   "cell_type": "code",
   "execution_count": null,
   "id": "9d994d34",
   "metadata": {},
   "outputs": [],
   "source": []
  },
  {
   "cell_type": "markdown",
   "id": "4c12b17d",
   "metadata": {},
   "source": [
    "# Convert labels to categorical"
   ]
  },
  {
   "cell_type": "code",
   "execution_count": 20,
   "id": "c6005f8c",
   "metadata": {},
   "outputs": [],
   "source": [
    "# Convert labels to categorical\n",
    "train_y = to_categorical(train_data[\"Label\"].values[:train_X.shape[0]])\n",
    "test_y = to_categorical(test_data[\"Label\"].values[:test_X.shape[0]])"
   ]
  },
  {
   "cell_type": "code",
   "execution_count": 21,
   "id": "73373c31",
   "metadata": {},
   "outputs": [],
   "source": [
    "train_X = train_X.astype('float32')\n",
    "train_y = train_y.astype('float32')\n",
    "test_y = test_y.astype('float32')\n"
   ]
  },
  {
   "cell_type": "code",
   "execution_count": 22,
   "id": "2493c603",
   "metadata": {},
   "outputs": [
    {
     "name": "stdout",
     "output_type": "stream",
     "text": [
      "(48143, 10, 68) (48143, 8) (20632, 10, 68) (20632, 8)\n"
     ]
    }
   ],
   "source": [
    "print(train_X.shape, train_y.shape, test_X.shape, test_y.shape)"
   ]
  },
  {
   "cell_type": "markdown",
   "id": "138a8bd2",
   "metadata": {},
   "source": [
    "# LSTM Autoencoder"
   ]
  },
  {
   "cell_type": "code",
   "execution_count": 23,
   "id": "08ed4356",
   "metadata": {},
   "outputs": [],
   "source": [
    "# Import necessary libraries\n",
    "from tensorflow.keras.models import Sequential\n",
    "from tensorflow.keras import Model\n",
    "from tensorflow.keras.layers import LSTM, Dense, Dropout\n",
    "from tensorflow.keras.callbacks import EarlyStopping\n",
    "from tensorflow.keras.layers import Conv1D, MaxPooling1D, Flatten, Input, RepeatVector, TimeDistributed\n",
    "from keras.optimizers import SGD"
   ]
  },
  {
   "cell_type": "code",
   "execution_count": 24,
   "id": "690ad293",
   "metadata": {},
   "outputs": [
    {
     "name": "stdout",
     "output_type": "stream",
     "text": [
      "(48143, 10, 68) (48143, 8) (20632, 10, 68) (20632, 8)\n"
     ]
    }
   ],
   "source": [
    "print(train_X.shape, train_y.shape, test_X.shape, test_y.shape)"
   ]
  },
  {
   "cell_type": "code",
   "execution_count": 25,
   "id": "5f3c17ee",
   "metadata": {},
   "outputs": [
    {
     "data": {
      "text/plain": [
       "68"
      ]
     },
     "execution_count": 25,
     "metadata": {},
     "output_type": "execute_result"
    }
   ],
   "source": [
    "train_X.shape[1:][1]"
   ]
  },
  {
   "cell_type": "code",
   "execution_count": 26,
   "id": "0d69318a",
   "metadata": {},
   "outputs": [
    {
     "name": "stdout",
     "output_type": "stream",
     "text": [
      "Model: \"model\"\n",
      "_________________________________________________________________\n",
      " Layer (type)                Output Shape              Param #   \n",
      "=================================================================\n",
      " input_1 (InputLayer)        [(None, 10, 68)]          0         \n",
      "                                                                 \n",
      " lstm (LSTM)                 (None, 64)                34048     \n",
      "                                                                 \n",
      " repeat_vector (RepeatVector  (None, 10, 64)           0         \n",
      " )                                                               \n",
      "                                                                 \n",
      " lstm_1 (LSTM)               (None, 10, 64)            33024     \n",
      "                                                                 \n",
      " time_distributed (TimeDistr  (None, 10, 68)           4420      \n",
      " ibuted)                                                         \n",
      "                                                                 \n",
      "=================================================================\n",
      "Total params: 71,492\n",
      "Trainable params: 71,492\n",
      "Non-trainable params: 0\n",
      "_________________________________________________________________\n"
     ]
    },
    {
     "name": "stderr",
     "output_type": "stream",
     "text": [
      "2025-01-03 17:50:04.886700: I tensorflow/core/common_runtime/executor.cc:1197] [/device:CPU:0] (DEBUG INFO) Executor start aborting (this does not indicate an error and you can ignore this message): INVALID_ARGUMENT: You must feed a value for placeholder tensor 'gradients/split_2_grad/concat/split_2/split_dim' with dtype int32\n",
      "\t [[{{node gradients/split_2_grad/concat/split_2/split_dim}}]]\n",
      "2025-01-03 17:50:04.889000: I tensorflow/core/common_runtime/executor.cc:1197] [/device:CPU:0] (DEBUG INFO) Executor start aborting (this does not indicate an error and you can ignore this message): INVALID_ARGUMENT: You must feed a value for placeholder tensor 'gradients/split_grad/concat/split/split_dim' with dtype int32\n",
      "\t [[{{node gradients/split_grad/concat/split/split_dim}}]]\n",
      "2025-01-03 17:50:04.890616: I tensorflow/core/common_runtime/executor.cc:1197] [/device:CPU:0] (DEBUG INFO) Executor start aborting (this does not indicate an error and you can ignore this message): INVALID_ARGUMENT: You must feed a value for placeholder tensor 'gradients/split_1_grad/concat/split_1/split_dim' with dtype int32\n",
      "\t [[{{node gradients/split_1_grad/concat/split_1/split_dim}}]]\n"
     ]
    }
   ],
   "source": [
    "n_features = len(df.columns) # number of features in the dataset\n",
    "\n",
    "# Define model architecture\n",
    "from keras.layers import Activation\n",
    "\n",
    "input_seq = Input(shape=train_X.shape[1:])\n",
    "encoded = LSTM(64, activation='sigmoid', return_sequences=False)(input_seq)\n",
    "decoded = RepeatVector(seq_length)(encoded)\n",
    "decoded = LSTM(units=64, return_sequences=True)(decoded)\n",
    "decoded = TimeDistributed(Dense(train_X.shape[1:][1]))(decoded)  #67 features\n",
    "autoencoder = Model(input_seq, decoded)\n",
    "                          \n",
    "autoencoder.compile(optimizer='adam', loss='categorical_crossentropy')\n",
    "\n",
    "autoencoder.summary()"
   ]
  },
  {
   "cell_type": "code",
   "execution_count": null,
   "id": "29e83bb9",
   "metadata": {},
   "outputs": [
    {
     "name": "stdout",
     "output_type": "stream",
     "text": [
      "Epoch 1/30\n"
     ]
    },
    {
     "name": "stderr",
     "output_type": "stream",
     "text": [
      "2025-01-03 17:50:05.339873: I tensorflow/core/common_runtime/executor.cc:1197] [/device:CPU:0] (DEBUG INFO) Executor start aborting (this does not indicate an error and you can ignore this message): INVALID_ARGUMENT: You must feed a value for placeholder tensor 'gradients/split_2_grad/concat/split_2/split_dim' with dtype int32\n",
      "\t [[{{node gradients/split_2_grad/concat/split_2/split_dim}}]]\n",
      "2025-01-03 17:50:05.342444: I tensorflow/core/common_runtime/executor.cc:1197] [/device:CPU:0] (DEBUG INFO) Executor start aborting (this does not indicate an error and you can ignore this message): INVALID_ARGUMENT: You must feed a value for placeholder tensor 'gradients/split_grad/concat/split/split_dim' with dtype int32\n",
      "\t [[{{node gradients/split_grad/concat/split/split_dim}}]]\n",
      "2025-01-03 17:50:05.343858: I tensorflow/core/common_runtime/executor.cc:1197] [/device:CPU:0] (DEBUG INFO) Executor start aborting (this does not indicate an error and you can ignore this message): INVALID_ARGUMENT: You must feed a value for placeholder tensor 'gradients/split_1_grad/concat/split_1/split_dim' with dtype int32\n",
      "\t [[{{node gradients/split_1_grad/concat/split_1/split_dim}}]]\n",
      "2025-01-03 17:50:06.195313: I tensorflow/core/common_runtime/executor.cc:1197] [/device:CPU:0] (DEBUG INFO) Executor start aborting (this does not indicate an error and you can ignore this message): INVALID_ARGUMENT: You must feed a value for placeholder tensor 'gradients/split_2_grad/concat/split_2/split_dim' with dtype int32\n",
      "\t [[{{node gradients/split_2_grad/concat/split_2/split_dim}}]]\n",
      "2025-01-03 17:50:06.197451: I tensorflow/core/common_runtime/executor.cc:1197] [/device:CPU:0] (DEBUG INFO) Executor start aborting (this does not indicate an error and you can ignore this message): INVALID_ARGUMENT: You must feed a value for placeholder tensor 'gradients/split_grad/concat/split/split_dim' with dtype int32\n",
      "\t [[{{node gradients/split_grad/concat/split/split_dim}}]]\n",
      "2025-01-03 17:50:06.198642: I tensorflow/core/common_runtime/executor.cc:1197] [/device:CPU:0] (DEBUG INFO) Executor start aborting (this does not indicate an error and you can ignore this message): INVALID_ARGUMENT: You must feed a value for placeholder tensor 'gradients/split_1_grad/concat/split_1/split_dim' with dtype int32\n",
      "\t [[{{node gradients/split_1_grad/concat/split_1/split_dim}}]]\n"
     ]
    },
    {
     "name": "stdout",
     "output_type": "stream",
     "text": [
      "430/434 [============================>.] - ETA: 0s - loss: 0.0653"
     ]
    },
    {
     "name": "stderr",
     "output_type": "stream",
     "text": [
      "2025-01-03 17:50:13.696744: I tensorflow/core/common_runtime/executor.cc:1197] [/device:CPU:0] (DEBUG INFO) Executor start aborting (this does not indicate an error and you can ignore this message): INVALID_ARGUMENT: You must feed a value for placeholder tensor 'gradients/split_2_grad/concat/split_2/split_dim' with dtype int32\n",
      "\t [[{{node gradients/split_2_grad/concat/split_2/split_dim}}]]\n",
      "2025-01-03 17:50:13.699090: I tensorflow/core/common_runtime/executor.cc:1197] [/device:CPU:0] (DEBUG INFO) Executor start aborting (this does not indicate an error and you can ignore this message): INVALID_ARGUMENT: You must feed a value for placeholder tensor 'gradients/split_grad/concat/split/split_dim' with dtype int32\n",
      "\t [[{{node gradients/split_grad/concat/split/split_dim}}]]\n",
      "2025-01-03 17:50:13.700596: I tensorflow/core/common_runtime/executor.cc:1197] [/device:CPU:0] (DEBUG INFO) Executor start aborting (this does not indicate an error and you can ignore this message): INVALID_ARGUMENT: You must feed a value for placeholder tensor 'gradients/split_1_grad/concat/split_1/split_dim' with dtype int32\n",
      "\t [[{{node gradients/split_1_grad/concat/split_1/split_dim}}]]\n"
     ]
    },
    {
     "name": "stdout",
     "output_type": "stream",
     "text": [
      "434/434 [==============================] - 9s 16ms/step - loss: 0.0658 - val_loss: 0.0148\n",
      "Epoch 2/30\n",
      "434/434 [==============================] - 6s 15ms/step - loss: 0.0054 - val_loss: 0.0056\n",
      "Epoch 3/30\n",
      "434/434 [==============================] - 6s 15ms/step - loss: -0.0021 - val_loss: -0.0102\n",
      "Epoch 4/30\n",
      "434/434 [==============================] - 7s 15ms/step - loss: -0.0072 - val_loss: -0.0023\n",
      "Epoch 5/30\n",
      "434/434 [==============================] - 7s 16ms/step - loss: -0.0130 - val_loss: -0.0300\n",
      "Epoch 6/30\n",
      "434/434 [==============================] - 7s 16ms/step - loss: -0.0245 - val_loss: -0.0488\n",
      "Epoch 7/30\n",
      "434/434 [==============================] - 7s 16ms/step - loss: -0.0379 - val_loss: -0.0521\n",
      "Epoch 8/30\n",
      "434/434 [==============================] - 7s 17ms/step - loss: -0.0478 - val_loss: -0.0368\n",
      "Epoch 9/30\n",
      "434/434 [==============================] - 7s 16ms/step - loss: -0.0627 - val_loss: -0.1154\n",
      "Epoch 10/30\n",
      "434/434 [==============================] - 7s 16ms/step - loss: -0.0508 - val_loss: 0.0532\n",
      "Epoch 11/30\n",
      "434/434 [==============================] - 7s 16ms/step - loss: -0.0145 - val_loss: -0.0353\n",
      "Epoch 12/30\n",
      "434/434 [==============================] - 7s 16ms/step - loss: -0.0700 - val_loss: -0.0801\n",
      "Epoch 13/30\n",
      "434/434 [==============================] - 7s 16ms/step - loss: -0.1333 - val_loss: -0.2148\n",
      "Epoch 14/30\n",
      "434/434 [==============================] - 9s 20ms/step - loss: -0.2390 - val_loss: -0.2794\n",
      "Epoch 15/30\n",
      "434/434 [==============================] - 11s 25ms/step - loss: -0.1791 - val_loss: -0.1674\n",
      "Epoch 16/30\n",
      "434/434 [==============================] - 8s 19ms/step - loss: -0.2059 - val_loss: -0.2898\n",
      "Epoch 17/30\n",
      "434/434 [==============================] - 7s 17ms/step - loss: -0.2882 - val_loss: -0.3800\n",
      "Epoch 18/30\n",
      "434/434 [==============================] - 8s 18ms/step - loss: -0.3596 - val_loss: -0.2951\n",
      "Epoch 19/30\n",
      "434/434 [==============================] - 8s 19ms/step - loss: -0.2519 - val_loss: -0.3269\n",
      "Epoch 20/30\n",
      "434/434 [==============================] - 8s 19ms/step - loss: -0.3826 - val_loss: -0.4435\n",
      "Epoch 21/30\n",
      "434/434 [==============================] - 8s 18ms/step - loss: -0.4464 - val_loss: -0.4144\n",
      "Epoch 22/30\n",
      "434/434 [==============================] - 8s 19ms/step - loss: -0.3987 - val_loss: -0.3910\n",
      "Epoch 23/30\n",
      "434/434 [==============================] - 8s 19ms/step - loss: -0.4113 - val_loss: -0.4528\n",
      "Epoch 24/30\n",
      "434/434 [==============================] - 8s 18ms/step - loss: -0.4445 - val_loss: -0.4738\n",
      "Epoch 25/30\n",
      "434/434 [==============================] - 8s 18ms/step - loss: -0.4928 - val_loss: -0.4840\n",
      "Epoch 26/30\n",
      "434/434 [==============================] - 8s 18ms/step - loss: -0.5031 - val_loss: -0.5065\n",
      "Epoch 27/30\n",
      "434/434 [==============================] - 9s 20ms/step - loss: -0.5195 - val_loss: -0.4970\n",
      "Epoch 28/30\n",
      "434/434 [==============================] - 9s 21ms/step - loss: -0.5030 - val_loss: -0.5019\n",
      "Epoch 29/30\n",
      "434/434 [==============================] - 8s 18ms/step - loss: -0.5129 - val_loss: -0.5352\n",
      "Epoch 30/30\n",
      "264/434 [=================>............] - ETA: 2s - loss: -0.3322"
     ]
    }
   ],
   "source": [
    "# Train model\n",
    "early_stop = EarlyStopping(monitor='val_loss', patience=80, verbose=1)\n",
    "history = autoencoder.fit(train_X, train_X, epochs=30, batch_size=100, validation_split=0.1, callbacks=[early_stop])\n",
    "history"
   ]
  },
  {
   "cell_type": "code",
   "execution_count": 166,
   "id": "00e9fa60",
   "metadata": {},
   "outputs": [],
   "source": [
    "autoencoder.save('./models/lstmAutoModel.h5')"
   ]
  },
  {
   "cell_type": "markdown",
   "id": "8da19141",
   "metadata": {},
   "source": [
    "## LOSS Chart"
   ]
  },
  {
   "cell_type": "code",
   "execution_count": 167,
   "id": "9628fcdf",
   "metadata": {},
   "outputs": [
    {
     "data": {
      "text/plain": [
       "<function matplotlib.pyplot.show(close=None, block=None)>"
      ]
     },
     "execution_count": 167,
     "metadata": {},
     "output_type": "execute_result"
    },
    {
     "data": {
      "image/png": "[encoded data removed]",
      "text/plain": [
       "<Figure size 1500x1000 with 1 Axes>"
      ]
     },
     "metadata": {},
     "output_type": "display_data"
    }
   ],
   "source": [
    "#loss plot\n",
    "plt.plot(history.history['loss'])\n",
    "plt.plot(history.history['loss'], 'o')\n",
    "plt.plot(history.history['val_loss'], 'o')\n",
    "plt.plot(history.history['val_loss'])\n",
    "plt.title('comparing predict and real value loss percentage')\n",
    "plt.ylabel('Loss percentage')\n",
    "plt.xlabel('Epoch')\n",
    "plt.legend(['Predict_loss','Predict_loss poins','Real_loss points', 'Real_loss'])\n",
    "plt.show"
   ]
  },
  {
   "cell_type": "code",
   "execution_count": 168,
   "id": "653a29f4",
   "metadata": {},
   "outputs": [
    {
     "data": {
      "image/png": "[encoded data removed]",
      "text/plain": [
       "<Figure size 1500x1000 with 1 Axes>"
      ]
     },
     "metadata": {},
     "output_type": "display_data"
    }
   ],
   "source": [
    "plt.plot(history.history['loss'], label='Training Loss')\n",
    "plt.plot(history.history['val_loss'], label='Validation Loss')\n",
    "plt.ylabel('Loss')\n",
    "plt.xlabel('Epoch')\n",
    "plt.legend();"
   ]
  },
  {
   "cell_type": "code",
   "execution_count": 169,
   "id": "40f0429c",
   "metadata": {},
   "outputs": [],
   "source": [
    "import datetime as dt\n",
    "from sklearn import metrics\n",
    "from sklearn import preprocessing\n",
    "import seaborn as sns\n",
    "\n",
    "from sklearn.metrics import accuracy_score, confusion_matrix, precision_score, recall_score, f1_score, roc_auc_score\n",
    "\n",
    "def predictAndPlot(model, X_test, Y_test):\n",
    "    start = dt.datetime.now()\n",
    "\n",
    "    #escore = model.evaluate(X_test, Y_test, batch_size=32)\n",
    "    pred = model.predict(X_test)\n",
    "    pred = np.argmax(pred, axis=-1)  # Get the class with the highest probability\n",
    "    pred = np.argmax(pred, axis=-1)  # Get the class with the highest probability\n",
    "\n",
    "    y_eval = np.argmax(Y_test,axis=1)   \n",
    "\n",
    "    score = metrics.accuracy_score(y_eval, pred)\n",
    "    rscore = recall_score(y_eval, pred, average='weighted')\n",
    "    ascore = precision_score(y_eval, pred, average='weighted')\n",
    "    f1score= f1_score(y_eval, pred, average='weighted') #F1 = 2 * (precision * recall) / (precision + recall) for manual\n",
    "\n",
    "    lb = preprocessing.LabelBinarizer()\n",
    "    lb.fit(y_eval)\n",
    "    y_eval = lb.transform(y_eval)\n",
    "    pred = lb.transform(pred)\n",
    "    roc_score = roc_auc_score(y_eval, pred)\n",
    "    #roc_auc_socre = multiclass_roc_auc_score(y_eval, pred)\n",
    "\n",
    "    print('Printing Summary')\n",
    "    print('===================================')    \n",
    "    print('Time taken:',dt.datetime.now()-start)\n",
    "    print(\"Validation score: {}\".format(score))\n",
    "    #print(\"Evaluation score: {}\".format(escore))\n",
    "    print(\"Recall score: {}\".format(rscore))\n",
    "    print(\"Precision score: {}\".format(ascore))\n",
    "    print(\"F1 Measure score: {}\".format(f1score))\n",
    "    print(\"ROC-AUC score: {}\".format(roc_score))\n",
    "    \n",
    "    #Now plot\n",
    "    pred = np.argmax(pred,axis=1)\n",
    "    y_test = Y_test.argmax(axis=1)\n",
    "    confMat = confusion_matrix(y_test, pred)\n",
    "    cm_df = pd.DataFrame(confMat)\n",
    "\n",
    "    labels = ['DDoS', 'Probe', 'Normal', 'DoS', 'BFA', 'Web-Attack', 'BOTNET', 'U2R']\n",
    "    sns.set(rc = {'figure.figsize':(15,10)})\n",
    "    sns.heatmap(cm_df, annot=True, annot_kws={\"size\":12}, fmt='g', xticklabels=labels, yticklabels=labels, cmap='Blues')\n",
    "    plt.ylabel('Actual Class')\n",
    "    plt.xlabel('Predicted Class')\n",
    "\n",
    "    plt.show() "
   ]
  },
  {
   "cell_type": "code",
   "execution_count": 170,
   "id": "a53c3dfc",
   "metadata": {},
   "outputs": [
    {
     "name": "stdout",
     "output_type": "stream",
     "text": [
      "1504/1504 [==============================] - 27s 18ms/step\n"
     ]
    },
    {
     "name": "stderr",
     "output_type": "stream",
     "text": [
      "/usr/local/lib/python3.9/site-packages/sklearn/metrics/_classification.py:1344: UndefinedMetricWarning: Recall is ill-defined and being set to 0.0 in labels with no true samples. Use `zero_division` parameter to control this behavior.\n",
      "  _warn_prf(average, modifier, msg_start, len(result))\n",
      "/usr/local/lib/python3.9/site-packages/sklearn/metrics/_classification.py:1344: UndefinedMetricWarning: Precision is ill-defined and being set to 0.0 in labels with no predicted samples. Use `zero_division` parameter to control this behavior.\n",
      "  _warn_prf(average, modifier, msg_start, len(result))\n"
     ]
    },
    {
     "name": "stdout",
     "output_type": "stream",
     "text": [
      "Printing Summary\n",
      "===================================\n",
      "Time taken: 0:00:29.941736\n",
      "Validation score: 0.32390649350649353\n",
      "Recall score: 0.32390649350649353\n",
      "Precision score: 0.2742216314712555\n",
      "F1 Measure score: 0.206243252366647\n",
      "ROC-AUC score: 0.4986541229480456\n"
     ]
    },
    {
     "data": {
      "image/png": "[encoded data removed]",
      "text/plain": [
       "<Figure size 1500x1000 with 2 Axes>"
      ]
     },
     "metadata": {},
     "output_type": "display_data"
    }
   ],
   "source": [
    "predictAndPlot(autoencoder, train_X, train_y)"
   ]
  }
 ],
 "metadata": {
  "kernelspec": {
   "display_name": "Python 3 (ipykernel)",
   "language": "python",
   "name": "python3"
  },
  "language_info": {
   "codemirror_mode": {
    "name": "ipython",
    "version": 3
   },
   "file_extension": ".py",
   "mimetype": "text/x-python",
   "name": "python",
   "nbconvert_exporter": "python",
   "pygments_lexer": "ipython3",
   "version": "3.9.19"
  }
 },
 "nbformat": 4,
 "nbformat_minor": 5
}
